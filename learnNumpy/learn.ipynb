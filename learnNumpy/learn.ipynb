{
 "cells": [
  {
   "cell_type": "code",
   "execution_count": 2,
   "metadata": {},
   "outputs": [],
   "source": [
    "import numpy as np"
   ]
  },
  {
   "cell_type": "code",
   "execution_count": 5,
   "metadata": {},
   "outputs": [
    {
     "name": "stdout",
     "output_type": "stream",
     "text": [
      "(4,) 4\n"
     ]
    }
   ],
   "source": [
    "a=[5,6,7,8]\n",
    "b=np.array(a,dtype=np.uint8)\n",
    "\n",
    "print(b.shape,b.size)"
   ]
  },
  {
   "cell_type": "code",
   "execution_count": 9,
   "metadata": {},
   "outputs": [
    {
     "name": "stdout",
     "output_type": "stream",
     "text": [
      "[[0.76559706 0.77544914 0.19332892]\n",
      " [0.56953236 0.99600208 0.50338037]\n",
      " [0.24816675 0.06610546 0.7087452 ]] \n",
      "[[0.38000508 0.69782849 0.30653304]\n",
      " [0.42331554 0.99605756 0.39980417]\n",
      " [0.15642758 0.9794008  0.4069855 ]]\n"
     ]
    }
   ],
   "source": [
    "ma=np.random.rand(3,3)\n",
    "mb=np.random.rand(3,3)\n",
    "print(ma,'\\n'+str(mb))"
   ]
  },
  {
   "cell_type": "code",
   "execution_count": null,
   "metadata": {},
   "outputs": [],
   "source": []
  }
 ],
 "metadata": {
  "kernelspec": {
   "display_name": "base",
   "language": "python",
   "name": "python3"
  },
  "language_info": {
   "codemirror_mode": {
    "name": "ipython",
    "version": 3
   },
   "file_extension": ".py",
   "mimetype": "text/x-python",
   "name": "python",
   "nbconvert_exporter": "python",
   "pygments_lexer": "ipython3",
   "version": "3.10.10"
  },
  "orig_nbformat": 4
 },
 "nbformat": 4,
 "nbformat_minor": 2
}
